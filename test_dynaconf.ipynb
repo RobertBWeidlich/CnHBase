{
  "nbformat": 4,
  "nbformat_minor": 0,
  "metadata": {
    "colab": {
      "provenance": [],
      "authorship_tag": "ABX9TyOYeTL1b7LNGdlz/TxwOe12",
      "include_colab_link": true
    },
    "kernelspec": {
      "name": "python3",
      "display_name": "Python 3"
    },
    "language_info": {
      "name": "python"
    }
  },
  "cells": [
    {
      "cell_type": "markdown",
      "metadata": {
        "id": "view-in-github",
        "colab_type": "text"
      },
      "source": [
        "<a href=\"https://colab.research.google.com/github/RobertBWeidlich/CnHBase/blob/master/test_dynaconf.ipynb\" target=\"_parent\"><img src=\"https://colab.research.google.com/assets/colab-badge.svg\" alt=\"Open In Colab\"/></a>"
      ]
    },
    {
      "cell_type": "markdown",
      "source": [
        "# Dynaconf Test Project\n",
        "### References:\n",
        "https://www.dynaconf.com/\n"
      ],
      "metadata": {
        "id": "fgSjMlAaiUKa"
      }
    },
    {
      "cell_type": "code",
      "execution_count": 1,
      "metadata": {
        "colab": {
          "base_uri": "https://localhost:8080/"
        },
        "id": "Lr2dXd3sN9rr",
        "outputId": "10538d1b-c3fb-4259-f710-067493fa2da7"
      },
      "outputs": [
        {
          "output_type": "stream",
          "name": "stdout",
          "text": [
            "Looking in indexes: https://pypi.org/simple, https://us-python.pkg.dev/colab-wheels/public/simple/\n",
            "Collecting dynaconf\n",
            "  Downloading dynaconf-3.1.12-py2.py3-none-any.whl (211 kB)\n",
            "\u001b[2K     \u001b[90m━━━━━━━━━━━━━━━━━━━━━━━━━━━━━━━━━━━━━━━\u001b[0m \u001b[32m211.8/211.8 kB\u001b[0m \u001b[31m4.3 MB/s\u001b[0m eta \u001b[36m0:00:00\u001b[0m\n",
            "\u001b[?25hInstalling collected packages: dynaconf\n",
            "Successfully installed dynaconf-3.1.12\n"
          ]
        }
      ],
      "source": [
        "#\n",
        "# 1. import dependencies for dynaconf\n",
        "#\n",
        "!pip install dynaconf\n",
        "import dynaconf"
      ]
    },
    {
      "cell_type": "code",
      "source": [
        "#\n",
        "# 2. Configure dynaconf project\n",
        "#\n",
        "!mkdir dc_project\n",
        "!cd dc_project\n",
        "#dynaconf init -f toml\n",
        "dynaconf init -f toml"
      ],
      "metadata": {
        "id": "ksTfnfXfRF2R",
        "colab": {
          "base_uri": "https://localhost:8080/",
          "height": 129
        },
        "outputId": "ea4566cc-d6a8-4653-c777-d1ab34b32da0"
      },
      "execution_count": 3,
      "outputs": [
        {
          "output_type": "error",
          "ename": "SyntaxError",
          "evalue": "ignored",
          "traceback": [
            "\u001b[0;36m  File \u001b[0;32m\"<ipython-input-3-254fe46d495f>\"\u001b[0;36m, line \u001b[0;32m6\u001b[0m\n\u001b[0;31m    dynaconf init -f toml\u001b[0m\n\u001b[0m             ^\u001b[0m\n\u001b[0;31mSyntaxError\u001b[0m\u001b[0;31m:\u001b[0m invalid syntax\n"
          ]
        }
      ]
    },
    {
      "cell_type": "code",
      "source": [],
      "metadata": {
        "id": "G_BuqPx74mgg"
      },
      "execution_count": null,
      "outputs": []
    }
  ]
}